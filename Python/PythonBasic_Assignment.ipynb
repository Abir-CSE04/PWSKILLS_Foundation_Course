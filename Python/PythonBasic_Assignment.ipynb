{
 "cells": [
  {
   "cell_type": "markdown",
   "id": "1f85b2fe-8a8d-4523-a30c-e8ca220966c0",
   "metadata": {},
   "source": [
    "                                                        Python Variables Assignment"
   ]
  },
  {
   "cell_type": "markdown",
   "id": "a82768e1-39b8-4fa4-9719-5a617079ec35",
   "metadata": {},
   "source": [
    "Q1.Write all the conventions being followed while declaring a variable."
   ]
  },
  {
   "cell_type": "code",
   "execution_count": null,
   "id": "ff94415d-e15e-4a8a-8984-3663f119e1e6",
   "metadata": {},
   "outputs": [],
   "source": [
    "Ans:In Python, the following conventions should be followed while declaring a variable:\n",
    "\n",
    "1.Variable names should start with a letter or an underscore (_).\n",
    "2.Variable names can only contain letters, digits, and underscores (_).\n",
    "3.Variable names are case-sensitive, meaning that \"myVariable\" and \"myvariable\" are two different variables.\n",
    "4.Variable names should not be a Python keyword or a built-in function name.\n",
    "5.Variable names should be descriptive and meaningful to indicate the purpose of the variable.\n",
    "Example of a valid variable name:\n",
    "    my_variable = 10\n",
    "Example of an invalid variable name:\n",
    "    2my_variable = 10  # variable name can't start with a digit\n",
    "    my-variable = 10   # variable name can't contain hyphen (-)\n",
    "    for = 10           # variable name can't be a Python keyword\n"
   ]
  },
  {
   "cell_type": "markdown",
   "id": "74e2da24-d1a8-4dc7-9acd-efdc4120b449",
   "metadata": {},
   "source": [
    "Q2.What will happen if we declare a restricted keyword as a variable?"
   ]
  },
  {
   "cell_type": "code",
   "execution_count": null,
   "id": "1c0078cd-e5b6-4faf-8303-7094c5f94a28",
   "metadata": {},
   "outputs": [],
   "source": [
    "Ans:If we declare a restricted keyword as a variable in Python, we will get a syntax error because keywords are reserved for special use in\n",
    "Python and cannot be used as variable names.\n",
    "\n",
    "For example, if we try to declare a variable named \"if\" or \"for\", we will get a syntax error because \"if\" and \"for\" are Python keywords that are \n",
    "used for conditional statements and loop statements, respectively."
   ]
  },
  {
   "cell_type": "markdown",
   "id": "441bfd17-599d-4658-b7ad-c3cdb6f3d2cd",
   "metadata": {},
   "source": [
    "Q3.Can we actually declare a string as a variable name?"
   ]
  },
  {
   "cell_type": "code",
   "execution_count": null,
   "id": "efd3effb-5108-4536-b11b-ed8372525768",
   "metadata": {},
   "outputs": [],
   "source": [
    "Yes, we can declare a string as a variable name in Python, but it is generally not recommended because it can make our code harder to read and understand."
   ]
  },
  {
   "cell_type": "markdown",
   "id": "fc502163-3e69-4845-b9e6-f62ff55d01f5",
   "metadata": {},
   "source": [
    "Q4.Is it possible for us to declare “_” as a variable? If so, then write an example of it."
   ]
  },
  {
   "cell_type": "code",
   "execution_count": null,
   "id": "ccb541e3-88e8-4d7a-b13e-eb3fd9e3006e",
   "metadata": {},
   "outputs": [],
   "source": [
    "Yes, we can use an underscore (_) as a variable name in Python. The underscore character is a valid identifier in Python, \n",
    "and it is often used as a placeholder or to indicate that a variable is not being used.\n",
    "\n",
    "Here's an example of declaring a variable using an underscore:\n",
    "_ = 10\n"
   ]
  },
  {
   "cell_type": "markdown",
   "id": "e9c95258-7ec5-42a0-8d53-f59925266fc6",
   "metadata": {},
   "source": [
    "Q5.Using an example, explain how the variables in python are dynamic in nature."
   ]
  },
  {
   "cell_type": "code",
   "execution_count": null,
   "id": "2da1a956-613a-42ee-8919-a09d476e2446",
   "metadata": {},
   "outputs": [],
   "source": [
    "Variables in Python are dynamic in nature, which means that their data type can change during runtime. \n",
    "This means that we can assign different types of data to a variable without having to declare its data type beforehand.\n",
    "\n",
    "Here's an example that demonstrates the dynamic nature of variables in Python:\n",
    "x = 10     # x is an integer\n",
    "print(x)\n",
    "\n",
    "x = \"hello\"   # x is now a string\n",
    "print(x)\n",
    "\n",
    "x = [1, 2, 3]   # x is now a list\n",
    "print(x)\n"
   ]
  },
  {
   "cell_type": "code",
   "execution_count": null,
   "id": "53919ff3-9947-4193-b2ed-b867f0c7cb94",
   "metadata": {},
   "outputs": [],
   "source": []
  },
  {
   "cell_type": "code",
   "execution_count": null,
   "id": "743d2248-8297-4910-b5b9-5d18cff81554",
   "metadata": {},
   "outputs": [],
   "source": []
  }
 ],
 "metadata": {
  "kernelspec": {
   "display_name": "Python 3 (ipykernel)",
   "language": "python",
   "name": "python3"
  },
  "language_info": {
   "codemirror_mode": {
    "name": "ipython",
    "version": 3
   },
   "file_extension": ".py",
   "mimetype": "text/x-python",
   "name": "python",
   "nbconvert_exporter": "python",
   "pygments_lexer": "ipython3",
   "version": "3.10.6"
  }
 },
 "nbformat": 4,
 "nbformat_minor": 5
}
