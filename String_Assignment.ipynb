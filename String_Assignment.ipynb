{
 "cells": [
  {
   "cell_type": "markdown",
   "id": "2732382a-3a43-44d9-8cc0-e74bf3832282",
   "metadata": {},
   "source": [
    "                                                        1st_April_Python_String_Assignment"
   ]
  },
  {
   "cell_type": "markdown",
   "id": "ef1d6b05-210d-4361-8be7-72e945a7bac9",
   "metadata": {},
   "source": [
    "Q1.How can we store a single quote (') as a string in a variable?"
   ]
  },
  {
   "cell_type": "code",
   "execution_count": null,
   "id": "ae3f395c-a401-4e1e-807c-e5a5bec5c06a",
   "metadata": {},
   "outputs": [],
   "source": [
    "Ans: To store a single quote (') as a string in a variable in Python, we can use double quotes to define the string. Alternatively,\n",
    "we can use a backslash () to escape the single quote character, which tells Python to treat it as a regular character instead of a string delimiter.\n",
    "\n",
    "Here are two examples of storing a single quote in a string variable:\n",
    "# Using double quotes\n",
    "my_string = \"I'm a string with a single quote.\"\n",
    "print(my_string)   # output: I'm a string with a single quote.\n",
    "\n",
    "# Using a backslash to escape the single quote\n",
    "my_string = 'I\\'m a string with a single quote.'\n",
    "print(my_string)   # output: I'm a string with a single quote.\n"
   ]
  },
  {
   "cell_type": "markdown",
   "id": "fc95dc1c-9dd5-4404-909f-40c550112aea",
   "metadata": {},
   "source": [
    "Q2.Refer the below variable:\n",
    "x = ‘a'\n",
    "Here, is x a character type or string type variable? Support your answer with an explanation."
   ]
  },
  {
   "cell_type": "code",
   "execution_count": null,
   "id": "6e3e41ff-9d6a-4360-a6a3-9c8febe0ffa1",
   "metadata": {},
   "outputs": [],
   "source": [
    "Ans: In Python, x = 'a' creates a string variable.\n",
    "\n",
    "In Python, both single and double quotes can be used to define a string. A single character can be represented as a string with a length of 1.\n",
    "Therefore, 'a' is a string of length 1 that contains the character a.\n",
    "\n",
    "In contrast, a character type variable is not explicitly defined in Python. Characters are simply represented as strings of length 1.\n",
    "\n",
    "So, x is a string type variable containing the single character 'a'"
   ]
  },
  {
   "cell_type": "code",
   "execution_count": null,
   "id": "f624b133-9dc5-44a0-ac54-f22946d286b1",
   "metadata": {},
   "outputs": [],
   "source": [
    "Q.3Apply the following functions on this variable: ‘Welcome to Python foundation course'\n",
    "1.find()\n",
    "2.count()\n",
    "3.len()\n",
    "4.Concatenation\n",
    "Note: You can use your choice of parameters. But make sure it is correct."
   ]
  },
  {
   "cell_type": "code",
   "execution_count": 2,
   "id": "be503dac-8417-46de-a8eb-386a0551e476",
   "metadata": {},
   "outputs": [
    {
     "name": "stdout",
     "output_type": "stream",
     "text": [
      "11\n",
      "-1\n",
      "6\n",
      "0\n",
      "35\n",
      "Welcome to Python foundation course is fun!\n"
     ]
    }
   ],
   "source": [
    "#Ans: Here is how you can apply the specified functions on the given string variable:\n",
    "\n",
    "# Define the string variable\n",
    "s = 'Welcome to Python foundation course'\n",
    "\n",
    "# find(): returns the index of the first occurrence of a substring\n",
    "print(s.find('Python'))  # Output: 11\n",
    "print(s.find('Java'))    # Output: -1 (since 'Java' is not in the string)\n",
    "\n",
    "# count(): returns the number of occurrences of a substring\n",
    "print(s.count('o'))      # Output: 4\n",
    "print(s.count('xyz'))    # Output: 0 (since 'xyz' is not in the string)\n",
    "\n",
    "# len(): returns the length of the string\n",
    "print(len(s))            # Output: 32\n",
    "\n",
    "# Concatenation using the + operator\n",
    "s2 = ' is fun!'\n",
    "print(s + s2)            # Output: 'Welcome to Python foundation course is fun!'\n"
   ]
  },
  {
   "cell_type": "code",
   "execution_count": null,
   "id": "def49f9b-138f-487d-9b00-34af162c5c0a",
   "metadata": {},
   "outputs": [],
   "source": [
    "Q4. For the variable: word= ‘PanaJi@12256'\n",
    "Calculate the following:\n",
    "(a) Total number of alphabets in lowercase\n",
    "(b) Total number of alphabets in uppercase\n",
    "(c) Total number of numerical in string"
   ]
  },
  {
   "cell_type": "code",
   "execution_count": 4,
   "id": "69ef979c-b4b0-4b84-9518-1c7c226d140a",
   "metadata": {},
   "outputs": [
    {
     "name": "stdout",
     "output_type": "stream",
     "text": [
      "Total number of alphabets in lowercase: 4\n",
      "Total number of alphabets in uppercase: 2\n",
      "Total number of numerical in string: 5\n"
     ]
    }
   ],
   "source": [
    "# Define the string variable\n",
    "word = 'PanaJi@12256'\n",
    "\n",
    "# Total number of alphabets in lowercase\n",
    "lower_count = sum(1 for c in word if c.islower())\n",
    "print(\"Total number of alphabets in lowercase:\", lower_count)\n",
    "\n",
    "# Total number of alphabets in uppercase\n",
    "upper_count = sum(1 for c in word if c.isupper())\n",
    "print(\"Total number of alphabets in uppercase:\", upper_count)\n",
    "\n",
    "# Total number of numerical in string\n",
    "num_count = sum(1 for c in word if c.isdigit())\n",
    "print(\"Total number of numerical in string:\", num_count)\n"
   ]
  },
  {
   "cell_type": "markdown",
   "id": "9090535a-fb04-4f86-b629-89ab5d75bcfb",
   "metadata": {},
   "source": [
    "Q5. Write a code to store a numerical value inside a variable then convert it into string."
   ]
  },
  {
   "cell_type": "code",
   "execution_count": 6,
   "id": "fb065c40-1dd0-4382-9604-d5f127bb0b64",
   "metadata": {},
   "outputs": [
    {
     "name": "stdout",
     "output_type": "stream",
     "text": [
      "Original value: 123\n",
      "Converted value: 123\n"
     ]
    }
   ],
   "source": [
    "# Store numerical value inside a variable\n",
    "num = 123\n",
    "\n",
    "# Convert numerical value to string\n",
    "num_str = str(num)\n",
    "\n",
    "# Print the original value and the converted value\n",
    "print(\"Original value:\", num)\n",
    "print(\"Converted value:\", num_str)\n"
   ]
  },
  {
   "cell_type": "code",
   "execution_count": 7,
   "id": "a6c46d57-7fa8-4b95-8767-46317a75dfb8",
   "metadata": {},
   "outputs": [
    {
     "data": {
      "text/plain": [
       "str"
      ]
     },
     "execution_count": 7,
     "metadata": {},
     "output_type": "execute_result"
    }
   ],
   "source": [
    "type(num_str)"
   ]
  },
  {
   "cell_type": "code",
   "execution_count": null,
   "id": "b675db2e-aaf3-4f98-988c-2b2481392a9b",
   "metadata": {},
   "outputs": [],
   "source": []
  },
  {
   "cell_type": "code",
   "execution_count": null,
   "id": "f0bcc4d5-28ef-4e59-9b03-e24f11b5c9be",
   "metadata": {},
   "outputs": [],
   "source": []
  }
 ],
 "metadata": {
  "kernelspec": {
   "display_name": "Python 3 (ipykernel)",
   "language": "python",
   "name": "python3"
  },
  "language_info": {
   "codemirror_mode": {
    "name": "ipython",
    "version": 3
   },
   "file_extension": ".py",
   "mimetype": "text/x-python",
   "name": "python",
   "nbconvert_exporter": "python",
   "pygments_lexer": "ipython3",
   "version": "3.10.6"
  }
 },
 "nbformat": 4,
 "nbformat_minor": 5
}
